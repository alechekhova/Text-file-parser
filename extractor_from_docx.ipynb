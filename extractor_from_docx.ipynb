{
 "cells": [
  {
   "cell_type": "code",
   "execution_count": 42,
   "metadata": {},
   "outputs": [],
   "source": [
    "# Перед запуском программы убедитесь, что в папке содержатся только файлы формата docx.\n",
    "# Для этого необходимо открыть все файлы и пересохранить их (File > Save as..) в формате docx.\n",
    "# Если просто поменять расширение в названии файла, он не перекодируется в нужный формат.\n",
    "# Все файлы другого типа следует переместить в другую папку."
   ]
  },
  {
   "cell_type": "code",
   "execution_count": 43,
   "metadata": {},
   "outputs": [],
   "source": [
    "# Если при выполнении данного куска программы возникнет ошибка типа: No module named 'docx', необходимо открыть программу \n",
    "#  Anaconda Prompt (для этого достаточно забить ее название в поиске на компьютере) и в открывшейся консоле написать следующий \n",
    "#  код: pip install docx (вместо docx следует писать имя библиотеки, отраженное в ошибке)\n",
    "# После завершения установки библиотеки в консоле следует еще раз запустить данный кусок кода\n",
    "\n",
    "\n",
    "import pandas as pd\n",
    "from docx import *\n",
    "import re\n",
    "import os, time\n",
    "from os.path import isfile, join"
   ]
  },
  {
   "cell_type": "code",
   "execution_count": 52,
   "metadata": {},
   "outputs": [],
   "source": [
    "mypath = 'C:/Users/asoboleva002/Desktop/University/alumni_project/data' # Пропишите корректный путь к папке с данными, \n",
    "                                                            # сохранив правый наклон разделителей        "
   ]
  },
  {
   "cell_type": "code",
   "execution_count": 53,
   "metadata": {},
   "outputs": [],
   "source": [
    "documents = [f for f in os.listdir(mypath) if isfile(join(mypath, f))]"
   ]
  },
  {
   "cell_type": "code",
   "execution_count": 63,
   "metadata": {},
   "outputs": [],
   "source": [
    "# Функция, построчно вытягивающая информацию из docx файла\n",
    "\n",
    "def get_data(doc):\n",
    "    surname = ' '.join(e for e in re.sub(' +',' ',doc.paragraphs[2].text).replace('_','').split(' ')[5:])\n",
    "    name = ' '.join(e for e in re.sub(' +',' ',doc.paragraphs[3].text).replace('_','').split(' ')[1:])\n",
    "    fathern = ' '.join(e for e in re.sub(' +',' ',doc.paragraphs[4].text).replace('_','').split(' ')[1:])\n",
    "    bdate = ' '.join(e for e in re.sub(' +',' ',doc.paragraphs[5].text).replace('_','').split(' ')[2:])\n",
    "    gyear = ' '.join(e for e in re.sub(' +',' ',doc.paragraphs[6].text).replace('_','').split(' ')[2:])\n",
    "    facult = ' '.join(e for e in re.sub(' +',' ',doc.paragraphs[7].text).replace('_','').split(' ')[1:])\n",
    "    job = ' '.join(e for e in re.sub(' +',' ',doc.paragraphs[8].text).replace('_','').split(' ')[2:])\n",
    "    post = ' '.join(e for e in re.sub(' +',' ',doc.paragraphs[9].text).replace('_','').split(' ')[1:])\n",
    "    phone = ' '.join(e for e in re.sub(' +',' ',doc.paragraphs[10].text).replace('_','').split(' ')[2:])\n",
    "    email = ' '.join(e for e in re.sub(' +',' ',doc.paragraphs[11].text).replace('_','').split(' ')[1:])\n",
    "    try:\n",
    "        rdate = doc.paragraphs[23].text\n",
    "    except:\n",
    "        rdate = ''\n",
    "    \n",
    "    table[filename] = {}\n",
    "    table[filename]['1_surname'] = surname\n",
    "    table[filename]['2_name'] = name\n",
    "    table[filename]['3_fathern'] = fathern\n",
    "    table[filename]['4_bdate'] = bdate\n",
    "    table[filename]['5_grad_year'] = gyear\n",
    "    table[filename]['6_facult'] = facult\n",
    "    table[filename]['7_job'] = job\n",
    "    table[filename]['8_post'] = post\n",
    "    table[filename]['90_phone'] = phone\n",
    "    table[filename]['91_email'] = email\n",
    "    table[filename]['92_rdate'] = rdate"
   ]
  },
  {
   "cell_type": "code",
   "execution_count": 64,
   "metadata": {},
   "outputs": [],
   "source": [
    "table = {}\n",
    "for d in documents:\n",
    "    filename = str('C:/Users/asoboleva002/Desktop/University/alumni_project/data/' + d)  # Пропишите корректный путь к папке  \n",
    "                                                            # с данными, сохранив правый наклон разделителей \n",
    "    doc = Document(filename)\n",
    "    get_data(doc)"
   ]
  },
  {
   "cell_type": "code",
   "execution_count": 65,
   "metadata": {},
   "outputs": [],
   "source": [
    "result = pd.DataFrame(table).T"
   ]
  },
  {
   "cell_type": "code",
   "execution_count": 66,
   "metadata": {},
   "outputs": [],
   "source": [
    "result.to_csv('Alumni.csv', sep = ';', encoding = 'CP1251')\n",
    "# Файл \"Alumni.csv\" будет сохранен в папку, в которой лежит файл с данным кодом"
   ]
  },
  {
   "cell_type": "code",
   "execution_count": 67,
   "metadata": {},
   "outputs": [
    {
     "data": {
      "text/html": [
       "<div>\n",
       "<style scoped>\n",
       "    .dataframe tbody tr th:only-of-type {\n",
       "        vertical-align: middle;\n",
       "    }\n",
       "\n",
       "    .dataframe tbody tr th {\n",
       "        vertical-align: top;\n",
       "    }\n",
       "\n",
       "    .dataframe thead th {\n",
       "        text-align: right;\n",
       "    }\n",
       "</style>\n",
       "<table border=\"1\" class=\"dataframe\">\n",
       "  <thead>\n",
       "    <tr style=\"text-align: right;\">\n",
       "      <th></th>\n",
       "      <th>1_surname</th>\n",
       "      <th>2_name</th>\n",
       "      <th>3_fathern</th>\n",
       "      <th>4_bdate</th>\n",
       "      <th>5_grad_year</th>\n",
       "      <th>6_facult</th>\n",
       "      <th>7_job</th>\n",
       "      <th>8_post</th>\n",
       "      <th>90_phone</th>\n",
       "      <th>91_email</th>\n",
       "      <th>92_rdate</th>\n",
       "    </tr>\n",
       "  </thead>\n",
       "  <tbody>\n",
       "    <tr>\n",
       "      <th>C:/Users/asoboleva002/Desktop/University/alumni_project/data/ЭПВ_451.docx</th>\n",
       "      <td>Червякова</td>\n",
       "      <td>Ирина</td>\n",
       "      <td>Викторовна</td>\n",
       "      <td>18.07.1972</td>\n",
       "      <td>2015</td>\n",
       "      <td>Факультет социальных наук/психология</td>\n",
       "      <td>МЦРКПО</td>\n",
       "      <td>эксперт</td>\n",
       "      <td>8925 848 02 78</td>\n",
       "      <td>iracher@mail.ru</td>\n",
       "      <td>«____» _______________ 201__ г.</td>\n",
       "    </tr>\n",
       "    <tr>\n",
       "      <th>C:/Users/asoboleva002/Desktop/University/alumni_project/data/ЭПВ_452.docx</th>\n",
       "      <td>Кравченко</td>\n",
       "      <td>Софья</td>\n",
       "      <td>Дмитриевна</td>\n",
       "      <td>20.01.1993</td>\n",
       "      <td>2016</td>\n",
       "      <td>МИЭФ</td>\n",
       "      <td>Федеральная антимонопольная служба РФ</td>\n",
       "      <td>главный специалист-эксперт Управления междунар...</td>\n",
       "      <td>8(916)7774549</td>\n",
       "      <td>sonyakravchenko@mail.ru</td>\n",
       "      <td></td>\n",
       "    </tr>\n",
       "    <tr>\n",
       "      <th>C:/Users/asoboleva002/Desktop/University/alumni_project/data/ЭПВ_453.docx</th>\n",
       "      <td>Смирнова</td>\n",
       "      <td>Дарья</td>\n",
       "      <td>Алексеевна</td>\n",
       "      <td>24.05.1993</td>\n",
       "      <td>2017</td>\n",
       "      <td>Факультет гуманитарных наук (Школа исторически...</td>\n",
       "      <td>ИП \"Гордон В.Б.\"</td>\n",
       "      <td>специалист-археолог</td>\n",
       "      <td>+79167253211</td>\n",
       "      <td>daria.a.sm@ya.ru</td>\n",
       "      <td>«10»  сентября 2018 г.</td>\n",
       "    </tr>\n",
       "  </tbody>\n",
       "</table>\n",
       "</div>"
      ],
      "text/plain": [
       "                                                     1_surname 2_name  \\\n",
       "C:/Users/asoboleva002/Desktop/University/alumni...  Червякова   Ирина   \n",
       "C:/Users/asoboleva002/Desktop/University/alumni...   Кравченко  Софья   \n",
       "C:/Users/asoboleva002/Desktop/University/alumni...    Смирнова  Дарья   \n",
       "\n",
       "                                                     3_fathern     4_bdate  \\\n",
       "C:/Users/asoboleva002/Desktop/University/alumni...  Викторовна  18.07.1972   \n",
       "C:/Users/asoboleva002/Desktop/University/alumni...  Дмитриевна  20.01.1993   \n",
       "C:/Users/asoboleva002/Desktop/University/alumni...  Алексеевна  24.05.1993   \n",
       "\n",
       "                                                   5_grad_year  \\\n",
       "C:/Users/asoboleva002/Desktop/University/alumni...        2015   \n",
       "C:/Users/asoboleva002/Desktop/University/alumni...        2016   \n",
       "C:/Users/asoboleva002/Desktop/University/alumni...        2017   \n",
       "\n",
       "                                                                                             6_facult  \\\n",
       "C:/Users/asoboleva002/Desktop/University/alumni...               Факультет социальных наук/психология   \n",
       "C:/Users/asoboleva002/Desktop/University/alumni...                                               МИЭФ   \n",
       "C:/Users/asoboleva002/Desktop/University/alumni...  Факультет гуманитарных наук (Школа исторически...   \n",
       "\n",
       "                                                                                    7_job  \\\n",
       "C:/Users/asoboleva002/Desktop/University/alumni...                                 МЦРКПО   \n",
       "C:/Users/asoboleva002/Desktop/University/alumni...  Федеральная антимонопольная служба РФ   \n",
       "C:/Users/asoboleva002/Desktop/University/alumni...                       ИП \"Гордон В.Б.\"   \n",
       "\n",
       "                                                                                               8_post  \\\n",
       "C:/Users/asoboleva002/Desktop/University/alumni...                                            эксперт   \n",
       "C:/Users/asoboleva002/Desktop/University/alumni...  главный специалист-эксперт Управления междунар...   \n",
       "C:/Users/asoboleva002/Desktop/University/alumni...                                специалист-археолог   \n",
       "\n",
       "                                                          90_phone  \\\n",
       "C:/Users/asoboleva002/Desktop/University/alumni...  8925 848 02 78   \n",
       "C:/Users/asoboleva002/Desktop/University/alumni...   8(916)7774549   \n",
       "C:/Users/asoboleva002/Desktop/University/alumni...    +79167253211   \n",
       "\n",
       "                                                                   91_email  \\\n",
       "C:/Users/asoboleva002/Desktop/University/alumni...          iracher@mail.ru   \n",
       "C:/Users/asoboleva002/Desktop/University/alumni...  sonyakravchenko@mail.ru   \n",
       "C:/Users/asoboleva002/Desktop/University/alumni...         daria.a.sm@ya.ru   \n",
       "\n",
       "                                                                           92_rdate  \n",
       "C:/Users/asoboleva002/Desktop/University/alumni...  «____» _______________ 201__ г.  \n",
       "C:/Users/asoboleva002/Desktop/University/alumni...                                   \n",
       "C:/Users/asoboleva002/Desktop/University/alumni...           «10»  сентября 2018 г.  "
      ]
     },
     "execution_count": 67,
     "metadata": {},
     "output_type": "execute_result"
    }
   ],
   "source": [
    "result"
   ]
  },
  {
   "cell_type": "code",
   "execution_count": null,
   "metadata": {},
   "outputs": [],
   "source": []
  }
 ],
 "metadata": {
  "kernelspec": {
   "display_name": "Python 3",
   "language": "python",
   "name": "python3"
  },
  "language_info": {
   "codemirror_mode": {
    "name": "ipython",
    "version": 3
   },
   "file_extension": ".py",
   "mimetype": "text/x-python",
   "name": "python",
   "nbconvert_exporter": "python",
   "pygments_lexer": "ipython3",
   "version": "3.6.4"
  }
 },
 "nbformat": 4,
 "nbformat_minor": 2
}
